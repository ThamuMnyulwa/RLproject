{
 "cells": [
  {
   "cell_type": "markdown",
   "metadata": {},
   "source": [
    "# Reinforcement Learning\n",
    "## 1. Overview of project"
   ]
  },
  {
   "cell_type": "markdown",
   "metadata": {},
   "source": [
    "Reinforcement learning is all about maximizing a \"goal\" or to use the terminology in reinforecement learning litrature \"rewards\"."
   ]
  },
  {
   "cell_type": "code",
   "execution_count": null,
   "metadata": {},
   "outputs": [],
   "source": []
  },
  {
   "cell_type": "markdown",
   "metadata": {},
   "source": [
    "1. Tic-Tac-Toe\n",
    "\n",
    "We begin by programming the Tic-Tac-Toe game in the Naive way followed by creating a reinfocement learning approach towards encoding a game of Tic-Tac-Toe that encodes it's self.\n"
   ]
  },
  {
   "cell_type": "markdown",
   "metadata": {},
   "source": [
    "-----\n",
    "2. Markov Decision Process (MDP)\n",
    "\n",
    "The MDP is the central framework for solving reinforcement learning problems. They allow us to formalize an abstract of all the concepts we learn in a game such as Tic-Tac-Toe so.\n",
    "\n",
    "There are 3 similar but different methods to solve these MDPs.\n",
    "1. Dynamic Programming (DP)\n",
    "2. Monte Carlo (MC)\n",
    "3. Temporal Difference Learning (TD)\n",
    "\n",
    "These methods are similar but the difficult task is differentiating between them.\n"
   ]
  },
  {
   "cell_type": "markdown",
   "metadata": {},
   "source": [
    "Approximation Methods:\n",
    "\n",
    "The disadvantage of the previous three methods is that they do not scale to **large stage spaces** i.e enviroments where you can find yourself in a large number of different states. A solution to this would be to use **approximation methods** , this would be where NN come into play as NN are very good function approximations. In other words you would plug in deep NN into your reinficement learning methods to create deep reinforcement learning."
   ]
  },
  {
   "cell_type": "markdown",
   "metadata": {},
   "source": [
    "Our Goal here is simply to understand:\n",
    "    1. The framework of reinforcement learning\n",
    "    2. How the 3 solutions to MDP work and the difference between them\n",
    "    3. Lastly, how to use approximation methods to scale them up\n",
    "        - Once we discuss approximation methods we will discuss how you can plug in deep neural networks in order to discuss deep reinficememtn learning in a further study."
   ]
  }
 ],
 "metadata": {
  "kernelspec": {
   "display_name": "Python 3",
   "language": "python",
   "name": "python3"
  },
  "language_info": {
   "codemirror_mode": {
    "name": "ipython",
    "version": 3
   },
   "file_extension": ".py",
   "mimetype": "text/x-python",
   "name": "python",
   "nbconvert_exporter": "python",
   "pygments_lexer": "ipython3",
   "version": "3.7.3"
  }
 },
 "nbformat": 4,
 "nbformat_minor": 2
}
