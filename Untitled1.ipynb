{
 "cells": [
  {
   "cell_type": "code",
   "execution_count": 1,
   "metadata": {},
   "outputs": [
    {
     "ename": "NameError",
     "evalue": "name 'xrange' is not defined",
     "output_type": "error",
     "traceback": [
      "\u001b[1;31m---------------------------------------------------------------------------\u001b[0m",
      "\u001b[1;31mNameError\u001b[0m                                 Traceback (most recent call last)",
      "\u001b[1;32m<ipython-input-1-61689c03949e>\u001b[0m in \u001b[0;36m<module>\u001b[1;34m\u001b[0m\n\u001b[0;32m     49\u001b[0m \u001b[1;33m\u001b[0m\u001b[0m\n\u001b[0;32m     50\u001b[0m \u001b[1;32mif\u001b[0m \u001b[0m__name__\u001b[0m \u001b[1;33m==\u001b[0m \u001b[1;34m\"__main__\"\u001b[0m\u001b[1;33m:\u001b[0m\u001b[1;33m\u001b[0m\u001b[1;33m\u001b[0m\u001b[0m\n\u001b[1;32m---> 51\u001b[1;33m     \u001b[0mc_1\u001b[0m \u001b[1;33m=\u001b[0m \u001b[0mrun_experiment\u001b[0m\u001b[1;33m(\u001b[0m\u001b[1;36m1.0\u001b[0m\u001b[1;33m,\u001b[0m\u001b[1;36m2.0\u001b[0m\u001b[1;33m,\u001b[0m\u001b[1;36m3.0\u001b[0m\u001b[1;33m,\u001b[0m\u001b[1;36m0.1\u001b[0m\u001b[1;33m,\u001b[0m  \u001b[1;36m100000\u001b[0m\u001b[1;33m)\u001b[0m \u001b[1;31m#  run_experiment(m1,m2,m3,eps,N)\u001b[0m\u001b[1;33m\u001b[0m\u001b[1;33m\u001b[0m\u001b[0m\n\u001b[0m\u001b[0;32m     52\u001b[0m     \u001b[0mc_05\u001b[0m \u001b[1;33m=\u001b[0m \u001b[0mrun_experiment\u001b[0m\u001b[1;33m(\u001b[0m\u001b[1;36m1.0\u001b[0m\u001b[1;33m,\u001b[0m\u001b[1;36m2.0\u001b[0m\u001b[1;33m,\u001b[0m\u001b[1;36m3.0\u001b[0m\u001b[1;33m,\u001b[0m\u001b[1;36m0.05\u001b[0m\u001b[1;33m,\u001b[0m \u001b[1;36m100000\u001b[0m\u001b[1;33m)\u001b[0m\u001b[1;33m\u001b[0m\u001b[1;33m\u001b[0m\u001b[0m\n\u001b[0;32m     53\u001b[0m     \u001b[0mc_01\u001b[0m \u001b[1;33m=\u001b[0m \u001b[0mrun_experiment\u001b[0m\u001b[1;33m(\u001b[0m\u001b[1;36m1.0\u001b[0m\u001b[1;33m,\u001b[0m\u001b[1;36m2.0\u001b[0m\u001b[1;33m,\u001b[0m\u001b[1;36m3.0\u001b[0m\u001b[1;33m,\u001b[0m\u001b[1;36m0.01\u001b[0m\u001b[1;33m,\u001b[0m \u001b[1;36m100000\u001b[0m\u001b[1;33m)\u001b[0m\u001b[1;33m\u001b[0m\u001b[1;33m\u001b[0m\u001b[0m\n",
      "\u001b[1;32m<ipython-input-1-61689c03949e>\u001b[0m in \u001b[0;36mrun_experiment\u001b[1;34m(m1, m2, m3, eps, N)\u001b[0m\n\u001b[0;32m     21\u001b[0m     \u001b[0mdata\u001b[0m \u001b[1;33m=\u001b[0m \u001b[0mnp\u001b[0m\u001b[1;33m.\u001b[0m\u001b[0mempty\u001b[0m\u001b[1;33m(\u001b[0m\u001b[0mN\u001b[0m\u001b[1;33m)\u001b[0m\u001b[1;33m\u001b[0m\u001b[1;33m\u001b[0m\u001b[0m\n\u001b[0;32m     22\u001b[0m \u001b[1;33m\u001b[0m\u001b[0m\n\u001b[1;32m---> 23\u001b[1;33m     \u001b[1;32mfor\u001b[0m \u001b[0mi\u001b[0m \u001b[1;32min\u001b[0m \u001b[0mxrange\u001b[0m\u001b[1;33m(\u001b[0m\u001b[0mN\u001b[0m\u001b[1;33m)\u001b[0m\u001b[1;33m:\u001b[0m\u001b[1;33m\u001b[0m\u001b[1;33m\u001b[0m\u001b[0m\n\u001b[0m\u001b[0;32m     24\u001b[0m         \u001b[0mp\u001b[0m \u001b[1;33m=\u001b[0m \u001b[0mnp\u001b[0m\u001b[1;33m.\u001b[0m\u001b[0mrandom\u001b[0m\u001b[1;33m.\u001b[0m\u001b[0mrandom\u001b[0m\u001b[1;33m(\u001b[0m\u001b[1;33m)\u001b[0m\u001b[1;33m\u001b[0m\u001b[1;33m\u001b[0m\u001b[0m\n\u001b[0;32m     25\u001b[0m         \u001b[1;32mif\u001b[0m \u001b[0mp\u001b[0m \u001b[1;33m<\u001b[0m \u001b[0meps\u001b[0m\u001b[1;33m:\u001b[0m\u001b[1;33m\u001b[0m\u001b[1;33m\u001b[0m\u001b[0m\n",
      "\u001b[1;31mNameError\u001b[0m: name 'xrange' is not defined"
     ]
    }
   ],
   "source": [
    "from __future__ import print_function, division\n",
    "from builtins import range\n",
    "# Premable\n",
    "import numpy as np\n",
    "import matplotlib.pyplot as plt\n",
    "\n",
    "class Bandit: \n",
    "    def __init__(self,m):\n",
    "        self.m=m\n",
    "        self.mean=0\n",
    "        self.N=0\n",
    "    def pull(self): \n",
    "        return np.random.random() + self.m\n",
    "    def update(self, x):\n",
    "        self.N += 1\n",
    "        self.mean = (1-1.0/self.N)*self.mean + 1.0/self.N * x\n",
    "        \n",
    "def run_experiment(m1,m2,m3,eps,N):\n",
    "    bandits =  [Bandit(m1), Bandit(m2), Bandit(m3)]\n",
    "    \n",
    "    data = np.empty(N)\n",
    "    \n",
    "    for i in xrange(N):  \n",
    "        p = np.random.random()\n",
    "        if p < eps: \n",
    "            j=np.random.choice(3) \n",
    "        else: # Exploit\n",
    "            j=np.argmax([b.mean for b in bandits])\n",
    "        \n",
    "        x=bandits[j].pull() \n",
    "        bandits[j].update(x)\n",
    "        \n",
    "        # Store the results in an array called data of size N\n",
    "        # Results for plot\n",
    "        data[i]=x\n",
    "    cumulative_average = np.cumsum(data) / (np.arange(N) + 1) \n",
    "    \n",
    "    plt.plot(cumulative_average) \n",
    "    plt.plot(np.ones(N) *m1) \n",
    "    plt.plot(np.ones(N)*m2)\n",
    "    plt.plot(np.ones(N)*m3)\n",
    "    plt.xscale('log') \n",
    "    plt.show()\n",
    "    \n",
    "#    for b in bandits:\n",
    "#        print b.mean\n",
    "        \n",
    "    return cumulative_average\n",
    "\n",
    "if __name__ == \"__main__\":\n",
    "    c_1 = run_experiment(1.0,2.0,3.0,0.1,  100000) #  run_experiment(m1,m2,m3,eps,N)\n",
    "    c_05 = run_experiment(1.0,2.0,3.0,0.05, 100000) \n",
    "    c_01 = run_experiment(1.0,2.0,3.0,0.01, 100000) \n",
    "    \n",
    "    # log scale plot\n",
    "plt.plot(c_1 ,  label = 'eps = 0.1')\n",
    "plt.plot(c_05 ,  label = 'eps = 0.05')\n",
    "plt.plot(c_01 ,  label = 'eps = 0.01')\n",
    "plt.legend()\n",
    "plt.xscale('log')\n",
    "plt.show()\n",
    "\n",
    "    # linear plot\n",
    "plt.plot(c_1 ,  label = 'eps = 0.1')\n",
    "plt.plot(c_05 ,  label = 'eps = 0.05')\n",
    "plt.plot(c_01 ,  label = 'eps = 0.01')\n",
    "plt.legend()\n",
    "\n",
    "plt.show()\n",
    "\n",
    "#__name__ == \"__main__\"\n",
    "        "
   ]
  },
  {
   "cell_type": "markdown",
   "metadata": {},
   "source": [
    "### James Powell: So you want to be a Python Expert? | PyData Seattle 2017\n",
    "\n",
    "https://www.youtube.com/watch?v=cKPlPJyQrt4\n",
    "\n",
    "#data.model.py\n",
    "#class represents some mathematical"
   ]
  },
  {
   "cell_type": "code",
   "execution_count": 12,
   "metadata": {},
   "outputs": [],
   "source": [
    "\n",
    "class Polynomial:\n",
    "    pass\n",
    "\n",
    "p1 = Polynomial()\n",
    "p2 = Polynomial()\n",
    "p1.coeffs = 1,2,3 #  X^2 +2X+ 3\n",
    "p2.coeffs = 3,4,3 # 3X^2 +4X+ 3\n",
    "# To do mathematics in python?\n",
    "# Why did I write this in 4 lines except of 2 lines\n",
    "# My class has nothing in it's body what would I do to do this more efficiently? \n",
    "# Answer is, you needed an it method"
   ]
  },
  {
   "cell_type": "code",
   "execution_count": 9,
   "metadata": {},
   "outputs": [
    {
     "ename": "IndentationError",
     "evalue": "expected an indented block (<ipython-input-9-bd782a4b1e1d>, line 6)",
     "output_type": "error",
     "traceback": [
      "\u001b[1;36m  File \u001b[1;32m\"<ipython-input-9-bd782a4b1e1d>\"\u001b[1;36m, line \u001b[1;32m6\u001b[0m\n\u001b[1;33m    p1 = Polynomial( 1,2,3) #  X^2 +2X+ 3\u001b[0m\n\u001b[1;37m                                         ^\u001b[0m\n\u001b[1;31mIndentationError\u001b[0m\u001b[1;31m:\u001b[0m expected an indented block\n"
     ]
    }
   ],
   "source": [
    "class Polynomial:\n",
    "    def __init__(self,*coeffs):\n",
    "        \n",
    "    \n",
    "\n",
    "p1 = Polynomial( 1,2,3) #  X^2 +2X+ 3\n",
    "p2 = Polynomial(3,4,3) # 3X^2 +4X+ 3\n",
    "p1.coeffs = \n",
    "p2.coeffs =  \n",
    "# To do mathematics in python?\n",
    "# Why did I write this in 4 lines except of 2 lines\n",
    "# My class has nothing in it's body what would I do to do this more efficiently? \n",
    "# Answer is, you needed an it method"
   ]
  },
  {
   "cell_type": "code",
   "execution_count": null,
   "metadata": {},
   "outputs": [],
   "source": []
  }
 ],
 "metadata": {
  "kernelspec": {
   "display_name": "Python 3",
   "language": "python",
   "name": "python3"
  },
  "language_info": {
   "codemirror_mode": {
    "name": "ipython",
    "version": 3
   },
   "file_extension": ".py",
   "mimetype": "text/x-python",
   "name": "python",
   "nbconvert_exporter": "python",
   "pygments_lexer": "ipython3",
   "version": "3.7.3"
  }
 },
 "nbformat": 4,
 "nbformat_minor": 2
}
