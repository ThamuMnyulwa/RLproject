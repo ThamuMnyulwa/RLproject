{
 "cells": [
  {
   "cell_type": "markdown",
   "metadata": {},
   "source": [
    "A6 MarkovDecisionProcesses"
   ]
  },
  {
   "cell_type": "markdown",
   "metadata": {},
   "source": [
    "# Markov Decision Processes"
   ]
  },
  {
   "attachments": {
    "Grid%20World.PNG": {
     "image/png": "[encoded data removed]"
    }
   },
   "cell_type": "markdown",
   "metadata": {},
   "source": [
    "## Grid World\n",
    "\n",
    "##### Markov Decision Processes\n",
    "\n",
    "- In this section: We formalize some RL concencepts we already know about\n",
    "- Agent, enviroment, action, state, reward and episode\n",
    "- Formal framework: Markov Decision Processes (MDPs)\n",
    "\n",
    "##### Grid world\n",
    "- Our game for the rest of the notebooks\n",
    "- Possible actions:\n",
    "    - Up, down, left, right\n",
    "- (1,1) $\\rightarrow$ wall, can't go here\n",
    "- (0,3) $\\rightarrow$ terminal($+1$ reward)\n",
    "- (1,3) $\\rightarrow$ terminal($-1$ reward)\n",
    "\n",
    "![Grid%20World.PNG](attachment:Grid%20World.PNG)\n"
   ]
  },
  {
   "cell_type": "markdown",
   "metadata": {},
   "source": [
    "<span style='color:black'>\n",
    "Grid world is our example for the rest of these notbooks. In many ways it is simpler than tic tac toe, but it has some properties that allows us to explore some intersting properties of RL. \n",
    "</span>\n",
    "\n",
    "\n",
    "<span style='color:black'>\n",
    "In Gridworld your agent is a robot and the environment, as you would probably guess, is a grid.\n",
    "</span>\n",
    "\n",
    "\n",
    "<span style='color:black'>\n",
    "The agent is allowed to move in four directions up, down, left, to right. That is its entire set of actions. The grid is usually built in this way.\n",
    "</span>\n",
    "\n",
    "\n",
    "<span style='color:black'>\n",
    "At position (1,1) there is a wall so the robot can't go there.\n",
    "If it tries to go there it just bumps into the wall.\n",
    "</span>\n",
    "\n",
    "\n",
    "<span style='color:black'>\n",
    "At position (0,3) and position (1,3)\n",
    "we have two terminal states.\n",
    " </span>\n",
    "\n",
    "\n",
    " <span style='color:black'>\n",
    "Position(0,3) is the goal state. You want to end up here because this is where you get your maximum reward.\n",
    " </span>\n",
    " "
   ]
  },
  {
   "cell_type": "markdown",
   "metadata": {},
   "source": [
    " <span style='color:black'>\n",
    "Position (1,3) is a losing state.\n",
    "If you end up here you lose.\n",
    "We use the term lose loosely because we are\n",
    "more concerned with well defined concepts like total reward.\n",
    "In any case,\n",
    "at this position you will receive a large negative reward\n",
    "so you don't want to end up there.\n",
    "</span>\n",
    "    \n",
    "<span style='color:black'>\n",
    "One thing you'll notice about Gridworld is that is has\n",
    "much smaller number of states than tic tac toe.\n",
    "The state can defined as the position of the robot\n",
    "so there are only 11 states\n",
    "because the grid is of size 12\n",
    "and the robot can't go to one of the squares.\n",
    "</span>\n",
    "\n",
    "<span style='color:black'>\n",
    "There are only four actions.\n",
    "So this is a relatively small game, 11 states and four actions\n",
    "and from this\n",
    "we will derive the rest of the concepts.\n",
    "</span>"
   ]
  },
  {
   "cell_type": "markdown",
   "metadata": {},
   "source": [
    "- 12 positions\n",
    "- 11 states (where the robot is)\n",
    "- 4 actions\n",
    "- Small game!\n",
    "- However, many concepts can be learned"
   ]
  },
  {
   "cell_type": "markdown",
   "metadata": {},
   "source": [
    "## Markov Property\n",
    "- The Markov Property is a central decision in Markov Decision Processes\n",
    "- In the context of RL, in looks a little different than we have seen it before.\n",
    "\n",
    "#### Markov Property review in mathamatical sence \n",
    "- Given a sequence: \n",
    "$$\\left \\{ x_{1}, x_{2},\\dots, x_{t} \\right \\}$$\n",
    "    \n",
    "- We define a conditional probability on $x_{t}$ given all the previous $x$'s, in general this cannot be simplified:\n",
    "  \n",
    "  $$ p\\left \\{  x_{t} | x_{t-1}, x_{t-2},\\dots, x_{1} \\right \\}  $$\n",
    "  \n",
    "- But if we assume that the Markov property is true then it can be simplified.$x$ depends on so first order Markov $x_{t}$ depends only on $x_{t-1}$.\n",
    "- First-order Markov (\"Markov\") :\n",
    "  $$ p\\left \\{  x_{t} | x_{t-1}, x_{t-2},\\dots, x_{1} \\right \\} = p\\left \\{  x_{t} | x_{t-1}  \\right \\}$$\n",
    "  \n",
    "- Second order Markov $x_{t}$ depends only on $x_{t-1}$ and  $x_{t-2}$.\n",
    "\n",
    "$$ p\\left \\{  x_{t} | x_{t-1}, x_{t-2},\\dots, x_{1} \\right \\} = p\\left \\{  x_{t} | x_{t-1}, x_{t-2}   \\right \\}$$\n",
    "\n",
    "Here, we work with first order Markov's only and we refer to this as the \"markov property\".\n"
   ]
  },
  {
   "cell_type": "markdown",
   "metadata": {},
   "source": [
    "#### The Markov Property  in RL\n",
    "\n",
    "- $\\left \\{ S(t), A(t)) \\right \\}$ produces 2 things $\\rightarrow \\left \\{ S(t+1), A(t+1)) \\right \\}$\n",
    "- Markov Property:\n",
    "$$ p \\left \\{ S_{t+1},R_{t+1} | S_{t},A_{t}, S_{t-1}, S_{t-1}, \\dots,  S_{0},A_{0}   \\right \\} =  p \\left \\{ S_{t+1},R_{t+1} | S_{t},A_{t}  \\right \\} $$\n",
    "\n",
    "- Convenience notation:\n",
    "\n",
    "$$p \\left \\{ s', r | s,a \\right \\} =  p \\left \\{ S_{t+1}= s',R_{t+1} =r |  S_{t}=s,A_{t}= a \\right \\}$$\n",
    "\n",
    "- Joint on $s'$ and $r$, conditioned on 2 other variables\n",
    "- Different from \"usual\" Markov: 1 RV conditioned on 1 other RV"
   ]
  },
  {
   "cell_type": "markdown",
   "metadata": {},
   "source": [
    "<span style='color:blue'>\n",
    "The Markov property looks a little different\n",
    "than what we've seen in the past.\n",
    "Let's review the Markov property\n",
    "in the strict mathematical sense.\n",
    "Suppose we have a sequence of $x_1$ up to $x_t$.\n",
    "We can define a conditional probability on $x_t$,\n",
    "given all the previous $x_s$.\n",
    "Generally speaking, this can't be simplified.\n",
    "But if we assume that the Markov\n",
    "property is true, then it can.\n",
    "</span>"
   ]
  },
  {
   "cell_type": "markdown",
   "metadata": {},
   "source": [
    "<span style='color:blue'>\n",
    "So what does the Markov property look\n",
    "like in reinforcement learning.\n",
    "Recall that doing an action A of t,\n",
    "while in state S of t, produces two things.\n",
    "It produces the next state, S of t plus one\n",
    "and a reward, R of t plus one.\n",
    "What the Markov property in this case says,\n",
    "is that, S of t plus one and R of t plus one,\n",
    "depend only on A of t and S of t,\n",
    "but not any A or S before that.\n",
    "For convenience, we can also use our shorthand symbols,\n",
    "S, A, R and S prime.\n",
    "</span>"
   ]
  },
  {
   "cell_type": "markdown",
   "metadata": {},
   "source": [
    "<span style='color:blue'>\n",
    "So how is this different from the usual way\n",
    "we write the Markov property?\n",
    "Well, notice how this is a joint\n",
    "distribution on S prime and R.\n",
    "So it's telling us the joint distribution\n",
    "of two variables conditioned on two other variables.\n",
    "This is different from the usual Markov form\n",
    "where we have only one variable on the left\n",
    "and one variable on the right.\n",
    "</span>    \n"
   ]
  },
  {
   "cell_type": "markdown",
   "metadata": {},
   "source": [
    "#### Other Conditional distributions\n",
    "- Can be found using rules of probability\n",
    "- For pretty much all cases we'll consider these will be deterministic\n",
    "- i.e. states will always give you the same reward\n",
    "- Action will always bring you to the same next state\n",
    "- But, these distributions are part of the core theory of RL\n",
    "\n",
    "$$p(s'|s,a) = \\sum_{r \\epsilon R} p(s',r|s,a)$$\n",
    "\n",
    "$$p(r|s,a) = \\sum_{s' \\epsilon S} p(s',r|s,a)$$"
   ]
  },
  {
   "cell_type": "markdown",
   "metadata": {},
   "source": [
    "<span style='color:blue'>    \n",
    "Given this joint condition of distribution,\n",
    "it is of course, just the matter of using\n",
    "the rules of probability, to find the\n",
    "marginal conditional distributions.\n",
    "For example, if we just want to know \n",
    "$p(s'|s,a)$ , or we just want to know $p(r|s,a)$,\n",
    "we can use these equations.\n",
    "</span>\n"
   ]
  },
  {
   "cell_type": "markdown",
   "metadata": {},
   "source": [
    "<span style='color:blue'>   \n",
    "Also note that for pretty much all cases we'll consider,\n",
    "these probabilities will be deterministic.\n",
    "That means the reward you get for\n",
    "going to the state, will always be the same reward and doing an action in a state,\n",
    "will always bring you to the same next state.\n",
    "But it's good to know that these probabilities\n",
    "are defined if you need them\n",
    "and they're also part of the core theory.\n",
    "</span>"
   ]
  },
  {
   "cell_type": "markdown",
   "metadata": {},
   "source": [
    "##### Is the Markov assumption limiting?\n",
    "\n",
    "- Not necessarily.\n",
    "- Recent applications: DeepMind used concatenation of 4 most recent frames to represent state when playing Atari games ([Mnih et al. 2013](https://arxiv.org/abs/1312.5602))\n",
    "- State can be made up of anything from anytime past to current.\n",
    "- Typically think of state right now = something we measure right now\n",
    "- Also, don't need to use raw data (state can be feautures transformed from raw data)\n",
    "- Any input from agent's sensors can be used to form state."
   ]
  },
  {
   "cell_type": "markdown",
   "metadata": {},
   "source": [
    "<span style='color:blue'>  \n",
    "- As an example of how the Markov\n",
    "assumption is not necessarily limiting,\n",
    "we can look at a recent\n",
    "application of reinforcement learning.\n",
    "\n",
    "- DeepMind used the concatenation\n",
    "of the four most recent frames\n",
    "in order to represent the current state.\n",
    "\n",
    "- Strictly speaking, this state can be made up of anything\n",
    "from anytime from past to current.\n",
    "\n",
    "- We just typically think of the state right now,\n",
    "to be something we are measuring right now.\n",
    "But that may not be the case.\n",
    "\n",
    "- Note that we also need not use\n",
    "raw data to represent the state,\n",
    "the state can be made up of any\n",
    "data derived from the raw data.\n",
    "You might think of that as a featured\n",
    "transformation on the raw data.\n",
    "\n",
    "- Essentially, any input from the agent's sensors\n",
    "can be used to form the state.\n",
    "</span>  \n"
   ]
  },
  {
   "cell_type": "markdown",
   "metadata": {},
   "source": [
    "#### Defining nd formalizing the MDP\n",
    "- We've been looking at MDPs, just not calling them by name\n",
    "- Any RL task with a set of states , actions, and rewards, that follows the Markov property, is a MDP\n",
    "- MDP is defined as the collection of\n",
    "    - Set of states\n",
    "    - Set of actions\n",
    "    - Set of rewards\n",
    "    - State-transition probabilities, reward probabilities (as defined jointly earlier)\n",
    "    - Discount factor (which we will see later)\n",
    " - Often written as a 5-tuple"
   ]
  },
  {
   "cell_type": "markdown",
   "metadata": {},
   "source": [
    "<span style='color:blue'> \n",
    "We've essentially been looking at Markov Decision Processes\n",
    "this whole time, just never calling it by name.\n",
    "Any reinforcement learning task\n",
    "with a set of states, actions, and rewards,\n",
    "that follows the Markov property\n",
    "is a Markov Decision Process.\n",
    "Formally speaking, a Markov Decision Process is a five-tuple\n",
    "made up of the set of states, set of rewards,\n",
    "set of actions, the state-transition probabilities,\n",
    "and the reward probabilities,\n",
    "which we previously discussed as a joint distribution,\n",
    "    </span> "
   ]
  },
  {
   "cell_type": "markdown",
   "metadata": {},
   "source": [
    "<span style='color:blue'> \n",
    "The other key term\n",
    "in the Markov Decision Process is decision.The way we make decisions for what actions to do\n",
    "in what states is called a policy.\n",
    "We usually denote a policy with the symbol pi.\n",
    "Technically, the policy is not part of the MDP itself,\n",
    "but it's part of the solution along with the value function,\n",
    "which we'll define more formally soon.\n",
    "</span> "
   ]
  },
  {
   "cell_type": "markdown",
   "metadata": {},
   "source": [
    "#### Policy\n",
    "- One more piece to complete the puzzle- the policy (denoted by $\\pi$)\n",
    "- Technically $\\pi$ is not part of the MDP itself, but it, along with the value function, form the solution\n",
    "- Left out until now because it's a weird symbol\n",
    "- There's no \"equation\" for it\n",
    "- How do you write epsilon-greedy as an equation? It's more like an algorithm\n",
    "- The only exception is the **optimal policy**, which can be defined in terms of the value function (we'll discuss later)\n",
    "- Think of $\\pi$ as short hand for the algorithm the agent is using to navigate the enviroment"
   ]
  },
  {
   "cell_type": "markdown",
   "metadata": {},
   "source": [
    "#### State Diagram"
   ]
  },
  {
   "cell_type": "markdown",
   "metadata": {},
   "source": [
    "<span style='color:blue'>\n",
    "So for now, pi is more like a short-hand notation\n",
    "for the algorithm the agent is using\n",
    "to navigate the environment.\n",
    "\n",
    "Because a Markov Decision Process\n",
    "satisfies the Markov property,\n",
    "you can imagine we can also draw state-transition diagrams\n",
    "for MDPs just like we do for Markov models\n",
    "and hidden Markov models.\n",
    "</span>"
   ]
  },
  {
   "cell_type": "markdown",
   "metadata": {},
   "source": [
    "#### State-transition probability\n",
    "\n",
    "$$p(s'|s,a)$$\n",
    "\n",
    "- Why is this stochastic? If I press \"jump\" button, doesn't it always do the same thing?\n",
    "- Recall: State is only derived from what agent senses, it's not the enviroment itself\n",
    "- State can be imperfect representation of enviroment\n",
    "- Example: State could represent multiple configurations of enviroment\n",
    "- Example: Blackjack - if you're the agent, the dealer's next card is not part of your state (but it is part of the enviroment)"
   ]
  },
  {
   "cell_type": "markdown",
   "metadata": {},
   "source": [
    "<span style='color:blue'>\n",
    "Let's look at the state-transition probability again,\n",
    "p of s prime given s and a.\n",
    "Recall that I said this as typically deterministic,\n",
    "but that's not always the case.\n",
    "Why might that be so?\n",
    "Remember that the state is only something derived\n",
    "from what the agent senses from the environment.\n",
    "It's not the environment itself.\n",
    "The state can be\n",
    "an imperfect representation of the environment,\n",
    "in which case you would expect the state-transition\n",
    "to be probabilistic.\n",
    "</span>"
   ]
  },
  {
   "cell_type": "markdown",
   "metadata": {},
   "source": [
    "<span style='color:blue'>\n",
    "As an example of an imperfect\n",
    "representation of the environment, think about blackjack.\n",
    "You might think of the dealer's next card\n",
    "as part of the state,\n",
    "but if you're the agent,\n",
    "you can't see the next card\n",
    "so it's not a part of your state.\n",
    "It is part of the environment.\n",
    "</span>"
   ]
  },
  {
   "cell_type": "markdown",
   "metadata": {},
   "source": [
    "#### Actions\n",
    "- Typically we think of actions like joystick inputs (up/down/right/jump) or Blackjack moves (hit/stand).\n",
    "- Actions can be very broad: How to distribute government funding.\n"
   ]
  },
  {
   "cell_type": "markdown",
   "metadata": {},
   "source": [
    "<span style='color:blue'>\n",
    "Sometimes there's confusion about what constitutes\n",
    "the agent and the environment.\n",
    "Think of yourself navigating your environment.\n",
    "You might think you are the agent,\n",
    "but what constitutes you?\n",
    "Are you your body?\n",
    "Your body is more correctly part of the environment.\n",
    "Your body isn't making decisions or learning.\n",
    "Your body has sensors which pass on signals to your brain,\n",
    "but it's your brain or your mind\n",
    "that does all the learning and decision making,\\\n",
    "so you want to be mindful of where you draw the boundary\n",
    "that differentiates between agent and environment.\n",
    "</span>"
   ]
  },
  {
   "attachments": {
    "Reinforcement%20Learning%20Framework.png": {
     "image/png": "[encoded data removed]"
    }
   },
   "cell_type": "markdown",
   "metadata": {},
   "source": [
    "#### Agent Vs Enviroment\n",
    "- You are navigating an enviroment, you are the agent - What constitutes \"you\"?\n",
    "- Are you your body? No!\n",
    "- Your body is part of the enviroment, your body doesn't make decisions/ learn\n",
    "- Brain / mind does the learning\n",
    "\n",
    "![Reinforcement%20Learning%20Framework.png](attachment:Reinforcement%20Learning%20Framework.png)"
   ]
  },
  {
   "cell_type": "markdown",
   "metadata": {},
   "source": [
    "## Future Rewards\n",
    "\n",
    "#### Total Rewards\n",
    "- We are interested in measuring total **future** reward\n",
    "- Everthing from $t+1$ onward\n",
    "- We call this **return** , $G(t)$\n",
    "- Note: does not count current reward $R(t)$\n",
    "\n",
    "$$ G(t)= \\sum_{\\tau = 1}^{\t\\infty} R(t + \\tau) $$"
   ]
  },
  {
   "cell_type": "markdown",
   "metadata": {},
   "source": [
    "<span style='color:blue'>\n",
    "Formalise the idea\n",
    "of total reward.\n",
    "In particular, what we are interested in is\n",
    "measuring the total future reward.So everything from T plus one and onward.\n",
    "We call this the return and we use the symbol G\n",
    "to represent it.\n",
    "Notice how it doesn't depend on the reward\n",
    "at the current time.\n",
    "This is because, strictly speaking,\n",
    "when I arrive at a state,\n",
    "I receive the reward for that state.\n",
    "There is nothing I can predict about it\n",
    "since it has already happened.\n",
    "</span>"
   ]
  },
  {
   "cell_type": "markdown",
   "metadata": {},
   "source": [
    "<span style='color:blue'>\n",
    "Now think of a very long task,\n",
    "a task containing a sequence that is\n",
    "thousands of steps long.\n",
    "Your goal is to maximise your total reward.\n",
    "But is there a difference between getting a reward now\n",
    "and getting that same reward 10 years from now?\n",
    "Think about finance.\n",
    "You know that $ \\$ 1000 $ today is worth less\n",
    "than $ \\$ 1000 $ 10 years ago.\n",
    "If I were to ask you: would you rather get $\\$1000 $ today\n",
    "or would you rather get $ \\$ 1000 $ 10 years later?\n",
    "You would of course choose today.\n",
    "And so we introduce what is called a discount factor\n",
    "on the future rewards.\n",
    "</span>"
   ]
  },
  {
   "cell_type": "markdown",
   "metadata": {},
   "source": [
    "#### Future Reward\n",
    "- Imagine a very long task (thousands of steps)\n",
    "- Is there a difference between getting a reward now, and getting the reward 10 years from now?\n",
    "- Think finance\n",
    "- $ \\$ 1000 $ today is worth less than $ \\$ 1000 $ 10 years ago\n",
    "- Would you rather get $ \\$ 1000 $ today or  $ \\$ 1000 $ 10 years from now? Choose today!"
   ]
  },
  {
   "cell_type": "markdown",
   "metadata": {},
   "source": [
    "<span style='color:blue'>\n",
    "We call the discount factor gamma and we use a number\n",
    "between zero and one to represent it.\n",
    "It should be clear that a gamma of one\n",
    "means we don't care how far in the future a reward is.\n",
    "All future rewards should be weighted equally.\n",
    "If gamma is zero, that means we don't care about\n",
    "the future at all.\n",
    "Doing that would be a truly greedy algorithm\n",
    "since the agent would only try to maximise\n",
    "its immediate reward.\n",
    "Usually we choose something in between\n",
    "like gamma equals 0.9.\n",
    "</span>"
   ]
  },
  {
   "cell_type": "markdown",
   "metadata": {},
   "source": [
    "<span style='color:blue'>\n",
    "If we have a very short episodic task,\n",
    "it may not be worth discounting at all.\n",
    "An intuitive reason you might want to discount\n",
    "future rewards is because the further you go in the future\n",
    "the harder it is to predict.\n",
    "So there's not a lot of sense in putting all your\n",
    "effort into getting something 10 years from now\n",
    "unless you're sure you can make it happen\n",
    "and that your circumstances won't change.\n",
    "</span>"
   ]
  },
  {
   "cell_type": "markdown",
   "metadata": {},
   "source": [
    "#### Discount factor \n",
    "- Gamma = 1: don't care how far in the future the reward is, weight all equally\n",
    "- Gamma = 0: truly greedy, only try to maximize immediate reward\n",
    "- Usually we choose something close to 1, i.e. 0.9\n",
    "- Short episodic task: maybe don't discount at all\n",
    "- \"The further you look into the future, the harder it is to predict\"\n",
    "\n",
    "$$ G(t) = \\sum_{\\tau=0}^{\\infty} \\gamma^{\\tau} R(t+\\tau+1) $$"
   ]
  },
  {
   "cell_type": "markdown",
   "metadata": {},
   "source": [
    "#### Merging continuous and episodic tasks\n",
    "\n",
    "<span style='color:blue'>\n",
    "You'll notice that the sum for the return\n",
    "goes from tau equals zero to infinity.\n",
    "But recall that this suggests that we're looking\n",
    "at a continuous task when in reality the games\n",
    "we've seen: tic-tac-toe and grid world\n",
    "are both episodic tasks.\n",
    "This is a mathematical subtlety but we actually\n",
    "want to write all of our equations in continuous form.\n",
    "Simply put, it makes the math a little easier to work with.\n",
    "There's a way to merge episodic and continuous tasks\n",
    "so that they're equivalent.\n",
    "The way you do it is this:\n",
    "the episodic task has a terminal state.\n",
    "What you can do is pretend that there's a state\n",
    "transition from the terminal state to itself.\n",
    "That always happens with probability one\n",
    "and always yields a reward of zero.\n",
    "In this way, the episodic task remains the same,\n",
    "but since it technically goes on forever,\n",
    "it's also a continuous task.\n",
    "</span>\n",
    "\n",
    "- Why count up to infinity? Aren't we doing episodic tasks?\n",
    "- Yes, but math is easier with infinity\n",
    "- Can make them technically equivalent"
   ]
  },
  {
   "attachments": {
    "ContinousAndEpisodicTasks.PNG": {
     "image/png": "[encoded data removed]"
    }
   },
   "cell_type": "markdown",
   "metadata": {},
   "source": [
    "![ContinousAndEpisodicTasks.PNG](attachment:ContinousAndEpisodicTasks.PNG)\n",
    "\n",
    "$$ G(t) = \\sum_{\\tau=0}^{\\infty} \\gamma^{\\tau} R(t+\\tau+1) $$"
   ]
  },
  {
   "cell_type": "code",
   "execution_count": null,
   "metadata": {},
   "outputs": [],
   "source": []
  },
  {
   "cell_type": "markdown",
   "metadata": {},
   "source": [
    "## Optimal Policy and Optimal Value function\n",
    "\n",
    "\n",
    "- These are interdependent- a key concept in RL - lots of depth to this idea\n",
    "- We can talk about the relative \"goodness\" of policies\n",
    "\n",
    "$$\n",
    "\\begin{align}\n",
    "\\pi_{1} \\geq \\pi_{2} &  & \\text{if } &V_{\\pi_{1}}(s) \\geq V_{\\pi_{2}}(s) &  \\forall s \\epsilon S\n",
    "\\end{align}\n",
    "$$\n",
    "\n",
    "Let's say we have two policies pie one and pie two we can say pie one is better than Pie 2.\n",
    "If the expected return of pie 1 is greater than or equal to the expected return of Pie 2 for all states\n",
    "because we can talk about the relative goodness of policies and one policy can be better than another\n",
    "policy then we also have the notion of the best policy in reinforcement learning.\n",
    "We call this the optimal policy.\n",
    "We use the symbol PI star to represent it.\n",
    "The optimal policy is the policy for which there is no greater value function."
   ]
  },
  {
   "cell_type": "markdown",
   "metadata": {},
   "source": [
    "#### The Best Policy\n",
    "\n",
    "- Optimal policy is the \"best\" policy\n",
    "- The policy for which there is no greater value function\n",
    "\n",
    "$$\n",
    "\\begin{align}\n",
    "V_{*}(s) =  max_{\\pi}\\left \\{ V_{\\pi}(s) \\right \\} &  &\\forall s \\epsilon S\n",
    "\\end{align}\n",
    "$$\n",
    "\n",
    "- Optimal policies are not unique, optimal value functions are"
   ]
  },
  {
   "cell_type": "markdown",
   "metadata": {},
   "source": [
    "We can write down the optimal value function as the max of the value function overall policies.\n",
    "Note that optimal policies are not necessarily unique but optimal value functions are.\n",
    "You can imagine how two policies can lead to the same rewards and hence lead to the same value functions.\n",
    "But if you have one value function that's greater than another value function then the optimal policy\n",
    "will be the one that leads to the greater value function."
   ]
  },
  {
   "cell_type": "markdown",
   "metadata": {},
   "source": [
    "#### Optimal Action-Value function\n",
    "\n",
    "$$\n",
    "\\begin{align}\n",
    "Q_{*}(s,a) =  max_{\\pi}\\left \\{ Q_{\\pi}(s,a) \\right \\} &  &\\forall \\text{ }  s \\epsilon S &  , \\text{ } a \\epsilon A\n",
    "\\end{align}\n",
    "$$\n"
   ]
  },
  {
   "cell_type": "markdown",
   "metadata": {},
   "source": [
    "<span style='color:blue'>\n",
    "We can similarly define the optimal action value function as the max of the action value function overall policies.\n",
    "</span>\n"
   ]
  },
  {
   "cell_type": "markdown",
   "metadata": {},
   "source": [
    "$$\n",
    "\\begin{align}\n",
    "Q_{*}(s,a) = E \\left [ R(t+1)+ \\gamma V_{*}(S_{t+1})|S_{t} = s,  A_{t} = a \\right ]\n",
    "\\end{align}\n",
    "$$"
   ]
  },
  {
   "cell_type": "markdown",
   "metadata": {},
   "source": [
    "<span style='color:blue'>\n",
    "Because the optimal action value function is with respect to the optimal policy.\n",
    "We can define it recursively in terms of the optimal state values function.\n",
    "</span>"
   ]
  },
  {
   "cell_type": "markdown",
   "metadata": {},
   "source": [
    "#### Relationship between V and Q\n",
    "- Implementation advantage:\n",
    "- To find the best action, we must actually do it to find the best $V(s')$\n",
    "- With Q, we simply need to look up $Q(s,a)$\n",
    "\n",
    "$$\n",
    "\\begin{align}\n",
    "V_{*}(s) =  max_{a}\\left \\{ Q_{*}(s,a) \\right \\}\n",
    "\\end{align}\n",
    "$$"
   ]
  },
  {
   "cell_type": "markdown",
   "metadata": {},
   "source": [
    "<span style='color:blue'>\n",
    "The state value function and the action value function can be related in this way.\n",
    "The state value function means that we are always choosing the best actions and therefore choosing the\n",
    "max overall actions from Q.\n",
    "</span>"
   ]
  },
  {
   "cell_type": "markdown",
   "metadata": {},
   "source": [
    "<span style='color:blue'>\n",
    "Notice how Q leads to some practical advantages during implementation.\n",
    "If we only have $V(s)$, then what we have to do is try all the possible actions to take us to their states\n",
    "so we can get the values for those states.\n",
    "But if we have Q, we can directly choose the best action over all actions say from Q.\n",
    "</span>"
   ]
  },
  {
   "cell_type": "markdown",
   "metadata": {},
   "source": [
    "#### Bellman Optimality Equation\n",
    "\n",
    "$$\n",
    "\\begin{align}\n",
    "V_{*}(s) &= max_{a} E \\left [ R(t+1)+ \\gamma V_{*}(S_{t+1})|S_{t} = s,  A_{t} = a \\right ] \\\\\n",
    "V_{*}(s) &=  max_{a} \\sum_{s' , r} p \\left (s',r|s,a \\right ) \\left [ r + \\gamma V_{*}(s') \\right ]\n",
    "\\end{align}\n",
    "$$\n"
   ]
  },
  {
   "cell_type": "markdown",
   "metadata": {},
   "source": [
    "<span style='color:blue'>\n",
    "Let's continue manipulating our equation for $V_{*}(s)$.\n",
    "We call this the Belman optimality equation for the state value function.\n",
    "Notice how it's very similar but not exactly the same as the Belman equation.\n",
    "</span>"
   ]
  },
  {
   "cell_type": "markdown",
   "metadata": {},
   "source": [
    "#### Bellman Optimality Equation\n",
    "\n",
    "$$\n",
    "\\begin{align}\n",
    "Q_{*}(s,a) &= E \\left [ R(t+1)+ \\gamma\\text { } max_{a'} Q_{*}(S_{t+1},a')|S_{t} = s,  A_{t} = a \\right ] \\\\\n",
    "Q_{*}(s,a) &= \\sum_{s' , r} p \\left (s',r|s,a \\right ) \\left [ r + \\gamma\\text { }  max_{a}Q_{*}(s',a') \\right ]\n",
    "\\end{align}\n",
    "$$\n"
   ]
  },
  {
   "cell_type": "markdown",
   "metadata": {},
   "source": [
    "<span style='color:blue'>\n",
    "We can do a similar thing to get the Belman optimality equation for the action value function.\n",
    "</span>"
   ]
  },
  {
   "cell_type": "markdown",
   "metadata": {},
   "source": [
    "#### Implementing the Optimal Policy\n",
    "- Key point: value function already takes future rewards into account\n",
    "- Just greedily choose the actionthat yields the best next-state value $V(s')$\n",
    "- Requires look-ahead search\n",
    "- If we have $Q(s,a)$, no need to look ahead, simply choose argmax\n",
    "- $Q(s,a)$ thus effectively caches the look-ahead search results"
   ]
  },
  {
   "cell_type": "markdown",
   "metadata": {},
   "source": [
    "<span style='color:blue'>\n",
    "Once we have the optimal value function how do we implement the optimal policy?\n",
    "</span>"
   ]
  },
  {
   "cell_type": "markdown",
   "metadata": {},
   "source": [
    "<span style='color:blue'>\n",
    "The key point is the value function already takes into account future rewards.\n",
    "So nothing extra needs to be done in order to optimize the total expected future reward. All we need to do is choose the action that yields the best value for the next state.\n",
    "</span>"
   ]
  },
  {
   "cell_type": "markdown",
   "metadata": {},
   "source": [
    "<span style='color:blue'>\n",
    "Notice how, for the state value function V, we need to do a look ahead search because V itself does not depend on a. So implementation wise, we need to do all the possible actions a,\n",
    "look at what state we arrive in s prime and choose the one that gives us the largest $V(s')$.\n",
    "</span>"
   ]
  },
  {
   "cell_type": "markdown",
   "metadata": {},
   "source": [
    "<span style='color:blue'>\n",
    "If we have a $Q(s,a )$ we can do this lookup directly.\n",
    "What $Q(s,a )$ does then is it effectively cache's the results of all one step ahead search is.\n",
    "</span>\n",
    "\n",
    "---"
   ]
  },
  {
   "cell_type": "markdown",
   "metadata": {},
   "source": [
    "## MDP summary\n",
    "- Purely theoretical\n",
    "- MDPs\n",
    "- Policies\n",
    "- Returns-total future reward\n",
    "- Discounting future rewards with a discount rate, gamma\n",
    "- State-value function\n",
    "- Action-value function\n",
    "\n",
    "<span style='color:black'>\n",
    "The notebooks content is all theoretical, this was so we could set up all the prerequisites we need for the later sections. In particular we formalize the Markov Decision Process Framework.</span>\n",
    "\n",
    "<span style='color:black'>\n",
    "Notably in this section we more rigorously define value function and looked at two different types of value functions (the state value function and the action value function). </span>\n",
    "\n",
    "- Bellman Equation\n",
    "$$ V_{\\pi}(s) = \\sum_{a} \\pi (a|s) \\sum_{s^{'}}\\sum_{r} p(s^{'},r|s,a)\\left \\{ r + \\gamma V_{\\pi}(s^{'}) \\right \\} $$\n",
    "\n",
    "<span style='color:black'>\n",
    "We looked at the Belmont equation which recursively defines the value function in terms of the value function at the next day.</span>\n",
    "\n",
    "- Bellman Optimality Equations\n",
    "- Next section:\n",
    "    - Finding $V$ given a policy\n",
    "    - Finding optimal policies and optimal values\n",
    "    \n",
    "$$V_{*}(s) = \\text{max}_{a} E\\left [ R(t+1)+ \\gamma V_{*}(S_{t+1})|S_{t}= s, A_{t} = a \\right ]$$\n",
    "\n",
    "$$V_{*}(s) = \\text{max}_{a}\\sum_{s^{'} r} p(s^{'},r|s,a) \\left [ r+\\gamma V_{*}(s^{'}) \\right ]$$\n",
    "\n",
    "<span style='color:black'>\n",
    "We looked at the notion of optimality and defined the optimal policy optimal state value function and optimal action value function. Through this we were also able to recursively define the optimal value functions in terms of optimal value functions at the next state. These are called the bellman optimally equations. In the next section we are going to begin looking at algorithms to compute the value functions for a given policy and the optimal value functions and optimal policy.\n",
    "</span>"
   ]
  },
  {
   "cell_type": "code",
   "execution_count": null,
   "metadata": {},
   "outputs": [],
   "source": []
  }
 ],
 "metadata": {
  "kernelspec": {
   "display_name": "Python 3",
   "language": "python",
   "name": "python3"
  },
  "language_info": {
   "codemirror_mode": {
    "name": "ipython",
    "version": 3
   },
   "file_extension": ".py",
   "mimetype": "text/x-python",
   "name": "python",
   "nbconvert_exporter": "python",
   "pygments_lexer": "ipython3",
   "version": "3.7.3"
  }
 },
 "nbformat": 4,
 "nbformat_minor": 2
}
